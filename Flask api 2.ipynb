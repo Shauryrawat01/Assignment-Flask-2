{
 "cells": [
  {
   "cell_type": "code",
   "execution_count": 2,
   "id": "86237a1a-6632-4a87-af91-f5cb3316761c",
   "metadata": {},
   "outputs": [],
   "source": [
    "#Question 1\n",
    "#GET = in get method input take as string and visible in site for example you search something in google visible in url\n",
    "#POST = in post method input is not visible in url for example email password\n",
    "#basically post is more secure"
   ]
  },
  {
   "cell_type": "code",
   "execution_count": 3,
   "id": "f8c9599f-de07-480d-87a4-2370aad26407",
   "metadata": {},
   "outputs": [],
   "source": [
    "#Question 2\n",
    "#request object is used in Flask to access the data sent from the client to the server"
   ]
  },
  {
   "cell_type": "code",
   "execution_count": 4,
   "id": "7c4356d5-a3b7-44aa-82c2-064613a026eb",
   "metadata": {},
   "outputs": [],
   "source": [
    "#question 3\n",
    "#The redirect function is used in Flask to redirect the user to another URL\n",
    "#it user to a different page after they have logged in or logged out."
   ]
  },
  {
   "cell_type": "code",
   "execution_count": 5,
   "id": "325045e1-bbd0-4c9d-9527-dffed1fc3256",
   "metadata": {},
   "outputs": [],
   "source": [
    "#Question 4\n",
    "#Templates in Flask are files that contain static data like html and css file\n",
    "#The rendertemplate function is used to render a template file\n",
    "#for example\n",
    "from flask import Flask, render_template\n",
    "\n",
    "app = Flask(__name__)\n",
    "\n",
    "@app.route(\"/\")\n",
    "def hello():\n",
    "    return render_template(\"index.html\")\n"
   ]
  },
  {
   "cell_type": "code",
   "execution_count": null,
   "id": "de22041d-07af-4adc-9de7-ce8a08bec5af",
   "metadata": {},
   "outputs": [],
   "source": [
    "#Question 5\n",
    "from flask import Flask, render_template,request,jsonify\n",
    "\n",
    "app = Flask(__name__)\n",
    "\n",
    "@app.route('/',methods=['GET','POST'])\n",
    "def home_page():\n",
    "    return render_template('index.html')\n",
    "\n",
    "#pratices using json with the help of postman tool\n",
    "@app.route('/postman_action',methods=['POST'])\n",
    "def math_operation1():\n",
    "    if(request.method =='POST'):\n",
    "        ops =request.json['operation']\n",
    "        num1 =int(request.json['num1'])\n",
    "        num2 = int(request.json['num2'])\n",
    "        if(ops =='add'):\n",
    "            r= num1+num2\n",
    "            result ='the sum of '+str(num1)+' and '+ str(num2)+ ' is ' +str(r)\n",
    "        if(ops =='subtract'):\n",
    "            r= num1-num2\n",
    "            result ='the subtract of '+str(num1)+' and '+ str(num2)+ ' is ' +str(r)\n",
    "        if(ops =='divide'):\n",
    "            r= num1/num2\n",
    "            result ='the divide of '+str(num1)+' and '+ str(num2)+ ' is ' +str(r)\n",
    "        if(ops =='multiply'):\n",
    "            r= num1*num2\n",
    "            result ='the multiplication of '+str(num1)+' and '+ str(num2)+ ' is ' +str(r)\n",
    "        return render_template('results.html',result=result)\n",
    "\n",
    "        return jsonify(result)            \n",
    "\n",
    "if __name__==\"__main__\":\n",
    "    app.run(host =\"0.0.0.0\")    "
   ]
  }
 ],
 "metadata": {
  "kernelspec": {
   "display_name": "Python 3 (ipykernel)",
   "language": "python",
   "name": "python3"
  },
  "language_info": {
   "codemirror_mode": {
    "name": "ipython",
    "version": 3
   },
   "file_extension": ".py",
   "mimetype": "text/x-python",
   "name": "python",
   "nbconvert_exporter": "python",
   "pygments_lexer": "ipython3",
   "version": "3.11.4"
  }
 },
 "nbformat": 4,
 "nbformat_minor": 5
}
